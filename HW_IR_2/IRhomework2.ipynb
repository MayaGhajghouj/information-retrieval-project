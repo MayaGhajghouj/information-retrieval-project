{
 "cells": [
  {
   "attachments": {},
   "cell_type": "markdown",
   "metadata": {},
   "source": [
    "<h1>maya ghajghouj 201820042</h1>"
   ]
  },
  {
   "attachments": {},
   "cell_type": "markdown",
   "metadata": {},
   "source": [
    "<h1>download all libraries</h1>"
   ]
  },
  {
   "cell_type": "code",
   "execution_count": 39,
   "metadata": {},
   "outputs": [],
   "source": [
    "import pandas as pd\n",
    "import re \n",
    "from snowballstemmer import stemmer\n",
    "import arabicstopwords.arabicstopwords as stp\n"
   ]
  },
  {
   "attachments": {},
   "cell_type": "markdown",
   "metadata": {},
   "source": [
    "for initilize pyterrir library we need jdk "
   ]
  },
  {
   "cell_type": "code",
   "execution_count": 40,
   "metadata": {},
   "outputs": [
    {
     "name": "stdout",
     "output_type": "stream",
     "text": [
      "C:\\Program Files\\Java\\jdk-20\\bin\n"
     ]
    }
   ],
   "source": [
    "import os\n",
    "java_home = os.environ.get('JAVA_HOME', None)\n",
    "if not java_home:\n",
    "    java_path ='C:\\\\Program Files\\\\Java\\\\jdk-20\\\\bin'\n",
    "    os.environ['JAVA_HOME'] = java_path\n",
    "else:\n",
    "    print(java_home)"
   ]
  },
  {
   "cell_type": "code",
   "execution_count": 41,
   "metadata": {},
   "outputs": [],
   "source": [
    "import pyterrier as pt\n",
    "if not pt.started():\n",
    "    pt.init()"
   ]
  },
  {
   "cell_type": "code",
   "execution_count": 42,
   "metadata": {},
   "outputs": [],
   "source": [
    "d0=\"هذا هو الدرس الأول  من مقرر استرجاع المعلومات\"\n",
    "d1=\"المقرر موجه لطلاب جامعة القلمون كلية الهندسة قسم تقانة المعلومات المعلومات\"\n",
    "d2 =\"رمز المقرر هو ENIT5517 \"\n",
    "d3 = \"نأمل أن نقدم لكم الفائدة المرجوة\"\n",
    "d4 = \"نرحب بأسئلتكم واستفساراتكم\"\n",
    "collection = [\n",
    "[\"d0\", d0],\n",
    "[\"d1\", d1],\n",
    "[\"d2\", d2],\n",
    "[\"d3\", d3],\n",
    "[\"d4\", d4]\n",
    "]"
   ]
  },
  {
   "cell_type": "code",
   "execution_count": 43,
   "metadata": {},
   "outputs": [],
   "source": [
    "docs_df=pd.DataFrame(data= collection,columns=[\"docno\",\"raw_text\"])"
   ]
  },
  {
   "cell_type": "code",
   "execution_count": 44,
   "metadata": {},
   "outputs": [
    {
     "data": {
      "text/html": [
       "<div>\n",
       "<style scoped>\n",
       "    .dataframe tbody tr th:only-of-type {\n",
       "        vertical-align: middle;\n",
       "    }\n",
       "\n",
       "    .dataframe tbody tr th {\n",
       "        vertical-align: top;\n",
       "    }\n",
       "\n",
       "    .dataframe thead th {\n",
       "        text-align: right;\n",
       "    }\n",
       "</style>\n",
       "<table border=\"1\" class=\"dataframe\">\n",
       "  <thead>\n",
       "    <tr style=\"text-align: right;\">\n",
       "      <th></th>\n",
       "      <th>docno</th>\n",
       "      <th>raw_text</th>\n",
       "    </tr>\n",
       "  </thead>\n",
       "  <tbody>\n",
       "    <tr>\n",
       "      <th>0</th>\n",
       "      <td>d0</td>\n",
       "      <td>هذا هو الدرس الأول  من مقرر استرجاع المعلومات</td>\n",
       "    </tr>\n",
       "    <tr>\n",
       "      <th>1</th>\n",
       "      <td>d1</td>\n",
       "      <td>المقرر موجه لطلاب جامعة القلمون كلية الهندسة ق...</td>\n",
       "    </tr>\n",
       "    <tr>\n",
       "      <th>2</th>\n",
       "      <td>d2</td>\n",
       "      <td>رمز المقرر هو ENIT5517</td>\n",
       "    </tr>\n",
       "    <tr>\n",
       "      <th>3</th>\n",
       "      <td>d3</td>\n",
       "      <td>نأمل أن نقدم لكم الفائدة المرجوة</td>\n",
       "    </tr>\n",
       "    <tr>\n",
       "      <th>4</th>\n",
       "      <td>d4</td>\n",
       "      <td>نرحب بأسئلتكم واستفساراتكم</td>\n",
       "    </tr>\n",
       "  </tbody>\n",
       "</table>\n",
       "</div>"
      ],
      "text/plain": [
       "  docno                                           raw_text\n",
       "0    d0      هذا هو الدرس الأول  من مقرر استرجاع المعلومات\n",
       "1    d1  المقرر موجه لطلاب جامعة القلمون كلية الهندسة ق...\n",
       "2    d2                            رمز المقرر هو ENIT5517 \n",
       "3    d3                   نأمل أن نقدم لكم الفائدة المرجوة\n",
       "4    d4                         نرحب بأسئلتكم واستفساراتكم"
      ]
     },
     "execution_count": 44,
     "metadata": {},
     "output_type": "execute_result"
    }
   ],
   "source": [
    "docs_df.head()"
   ]
  },
  {
   "cell_type": "code",
   "execution_count": 45,
   "metadata": {},
   "outputs": [
    {
     "name": "stdout",
     "output_type": "stream",
     "text": [
      "(5, 2)\n"
     ]
    }
   ],
   "source": [
    "print(docs_df.shape)"
   ]
  },
  {
   "attachments": {},
   "cell_type": "markdown",
   "metadata": {},
   "source": [
    "<h2>1)remove stopWords</h2>"
   ]
  },
  {
   "cell_type": "code",
   "execution_count": 46,
   "metadata": {},
   "outputs": [],
   "source": [
    "def remove_stopWords(sentence):\n",
    "    terms=''\n",
    "    stopwords=set(stp.stopwords_list())\n",
    "    for term in sentence.split():\n",
    "        if term not in stopwords:\n",
    "          terms+=\" \"+term\n",
    "            \n",
    "    return terms"
   ]
  },
  {
   "cell_type": "code",
   "execution_count": 47,
   "metadata": {},
   "outputs": [],
   "source": [
    "docs_df[\"text\"]=docs_df[\"raw_text\"].apply(remove_stopWords)\n"
   ]
  },
  {
   "cell_type": "code",
   "execution_count": 48,
   "metadata": {},
   "outputs": [
    {
     "data": {
      "text/html": [
       "<div>\n",
       "<style scoped>\n",
       "    .dataframe tbody tr th:only-of-type {\n",
       "        vertical-align: middle;\n",
       "    }\n",
       "\n",
       "    .dataframe tbody tr th {\n",
       "        vertical-align: top;\n",
       "    }\n",
       "\n",
       "    .dataframe thead th {\n",
       "        text-align: right;\n",
       "    }\n",
       "</style>\n",
       "<table border=\"1\" class=\"dataframe\">\n",
       "  <thead>\n",
       "    <tr style=\"text-align: right;\">\n",
       "      <th></th>\n",
       "      <th>docno</th>\n",
       "      <th>raw_text</th>\n",
       "      <th>text</th>\n",
       "    </tr>\n",
       "  </thead>\n",
       "  <tbody>\n",
       "    <tr>\n",
       "      <th>0</th>\n",
       "      <td>d0</td>\n",
       "      <td>هذا هو الدرس الأول  من مقرر استرجاع المعلومات</td>\n",
       "      <td>الدرس الأول مقرر استرجاع المعلومات</td>\n",
       "    </tr>\n",
       "    <tr>\n",
       "      <th>1</th>\n",
       "      <td>d1</td>\n",
       "      <td>المقرر موجه لطلاب جامعة القلمون كلية الهندسة ق...</td>\n",
       "      <td>المقرر موجه لطلاب جامعة القلمون كلية الهندسة ...</td>\n",
       "    </tr>\n",
       "    <tr>\n",
       "      <th>2</th>\n",
       "      <td>d2</td>\n",
       "      <td>رمز المقرر هو ENIT5517</td>\n",
       "      <td>رمز المقرر ENIT5517</td>\n",
       "    </tr>\n",
       "    <tr>\n",
       "      <th>3</th>\n",
       "      <td>d3</td>\n",
       "      <td>نأمل أن نقدم لكم الفائدة المرجوة</td>\n",
       "      <td>نأمل نقدم الفائدة المرجوة</td>\n",
       "    </tr>\n",
       "    <tr>\n",
       "      <th>4</th>\n",
       "      <td>d4</td>\n",
       "      <td>نرحب بأسئلتكم واستفساراتكم</td>\n",
       "      <td>نرحب بأسئلتكم واستفساراتكم</td>\n",
       "    </tr>\n",
       "  </tbody>\n",
       "</table>\n",
       "</div>"
      ],
      "text/plain": [
       "  docno                                           raw_text  \\\n",
       "0    d0      هذا هو الدرس الأول  من مقرر استرجاع المعلومات   \n",
       "1    d1  المقرر موجه لطلاب جامعة القلمون كلية الهندسة ق...   \n",
       "2    d2                            رمز المقرر هو ENIT5517    \n",
       "3    d3                   نأمل أن نقدم لكم الفائدة المرجوة   \n",
       "4    d4                         نرحب بأسئلتكم واستفساراتكم   \n",
       "\n",
       "                                                text  \n",
       "0                 الدرس الأول مقرر استرجاع المعلومات  \n",
       "1   المقرر موجه لطلاب جامعة القلمون كلية الهندسة ...  \n",
       "2                                رمز المقرر ENIT5517  \n",
       "3                          نأمل نقدم الفائدة المرجوة  \n",
       "4                         نرحب بأسئلتكم واستفساراتكم  "
      ]
     },
     "execution_count": 48,
     "metadata": {},
     "output_type": "execute_result"
    }
   ],
   "source": [
    "docs_df.head()"
   ]
  },
  {
   "attachments": {},
   "cell_type": "markdown",
   "metadata": {},
   "source": [
    "<h2>2)Normalization</h2>"
   ]
  },
  {
   "cell_type": "code",
   "execution_count": 49,
   "metadata": {},
   "outputs": [],
   "source": [
    "def normalize(text):\n",
    "    text=re.sub(\"[أإآ]\",\"ا\",text)\n",
    "    text=re.sub(\"ى\",\"ي\",text)\n",
    "    text=re.sub(\"[ؤئ]\",\"ء\",text)\n",
    "    text=re.sub(\"ة\",\"ه\",text)\n",
    "    return text"
   ]
  },
  {
   "cell_type": "code",
   "execution_count": 50,
   "metadata": {},
   "outputs": [],
   "source": [
    "docs_df[\"text\"]=docs_df[\"text\"].apply(normalize)"
   ]
  },
  {
   "cell_type": "code",
   "execution_count": 51,
   "metadata": {},
   "outputs": [
    {
     "data": {
      "text/html": [
       "<div>\n",
       "<style scoped>\n",
       "    .dataframe tbody tr th:only-of-type {\n",
       "        vertical-align: middle;\n",
       "    }\n",
       "\n",
       "    .dataframe tbody tr th {\n",
       "        vertical-align: top;\n",
       "    }\n",
       "\n",
       "    .dataframe thead th {\n",
       "        text-align: right;\n",
       "    }\n",
       "</style>\n",
       "<table border=\"1\" class=\"dataframe\">\n",
       "  <thead>\n",
       "    <tr style=\"text-align: right;\">\n",
       "      <th></th>\n",
       "      <th>docno</th>\n",
       "      <th>raw_text</th>\n",
       "      <th>text</th>\n",
       "    </tr>\n",
       "  </thead>\n",
       "  <tbody>\n",
       "    <tr>\n",
       "      <th>0</th>\n",
       "      <td>d0</td>\n",
       "      <td>هذا هو الدرس الأول  من مقرر استرجاع المعلومات</td>\n",
       "      <td>الدرس الاول مقرر استرجاع المعلومات</td>\n",
       "    </tr>\n",
       "    <tr>\n",
       "      <th>1</th>\n",
       "      <td>d1</td>\n",
       "      <td>المقرر موجه لطلاب جامعة القلمون كلية الهندسة ق...</td>\n",
       "      <td>المقرر موجه لطلاب جامعه القلمون كليه الهندسه ...</td>\n",
       "    </tr>\n",
       "    <tr>\n",
       "      <th>2</th>\n",
       "      <td>d2</td>\n",
       "      <td>رمز المقرر هو ENIT5517</td>\n",
       "      <td>رمز المقرر ENIT5517</td>\n",
       "    </tr>\n",
       "    <tr>\n",
       "      <th>3</th>\n",
       "      <td>d3</td>\n",
       "      <td>نأمل أن نقدم لكم الفائدة المرجوة</td>\n",
       "      <td>نامل نقدم الفاءده المرجوه</td>\n",
       "    </tr>\n",
       "    <tr>\n",
       "      <th>4</th>\n",
       "      <td>d4</td>\n",
       "      <td>نرحب بأسئلتكم واستفساراتكم</td>\n",
       "      <td>نرحب باسءلتكم واستفساراتكم</td>\n",
       "    </tr>\n",
       "  </tbody>\n",
       "</table>\n",
       "</div>"
      ],
      "text/plain": [
       "  docno                                           raw_text  \\\n",
       "0    d0      هذا هو الدرس الأول  من مقرر استرجاع المعلومات   \n",
       "1    d1  المقرر موجه لطلاب جامعة القلمون كلية الهندسة ق...   \n",
       "2    d2                            رمز المقرر هو ENIT5517    \n",
       "3    d3                   نأمل أن نقدم لكم الفائدة المرجوة   \n",
       "4    d4                         نرحب بأسئلتكم واستفساراتكم   \n",
       "\n",
       "                                                text  \n",
       "0                 الدرس الاول مقرر استرجاع المعلومات  \n",
       "1   المقرر موجه لطلاب جامعه القلمون كليه الهندسه ...  \n",
       "2                                رمز المقرر ENIT5517  \n",
       "3                          نامل نقدم الفاءده المرجوه  \n",
       "4                         نرحب باسءلتكم واستفساراتكم  "
      ]
     },
     "execution_count": 51,
     "metadata": {},
     "output_type": "execute_result"
    }
   ],
   "source": [
    "docs_df.head()"
   ]
  },
  {
   "attachments": {},
   "cell_type": "markdown",
   "metadata": {},
   "source": [
    "<h2>3)Stemmers</h2>"
   ]
  },
  {
   "cell_type": "code",
   "execution_count": 52,
   "metadata": {},
   "outputs": [],
   "source": [
    "ar_stemmer=stemmer(\"arabic\")"
   ]
  },
  {
   "cell_type": "code",
   "execution_count": 53,
   "metadata": {},
   "outputs": [],
   "source": [
    "def stem(sentence):\n",
    "    m=''\n",
    "    for term in sentence.split():\n",
    "        m+=' '+ar_stemmer.stemWord(term)\n",
    "    return m"
   ]
  },
  {
   "cell_type": "code",
   "execution_count": 54,
   "metadata": {},
   "outputs": [],
   "source": [
    "docs_df[\"text\"]=docs_df[\"text\"].apply(stem)"
   ]
  },
  {
   "cell_type": "code",
   "execution_count": 55,
   "metadata": {},
   "outputs": [
    {
     "data": {
      "text/html": [
       "<div>\n",
       "<style scoped>\n",
       "    .dataframe tbody tr th:only-of-type {\n",
       "        vertical-align: middle;\n",
       "    }\n",
       "\n",
       "    .dataframe tbody tr th {\n",
       "        vertical-align: top;\n",
       "    }\n",
       "\n",
       "    .dataframe thead th {\n",
       "        text-align: right;\n",
       "    }\n",
       "</style>\n",
       "<table border=\"1\" class=\"dataframe\">\n",
       "  <thead>\n",
       "    <tr style=\"text-align: right;\">\n",
       "      <th></th>\n",
       "      <th>docno</th>\n",
       "      <th>raw_text</th>\n",
       "      <th>text</th>\n",
       "    </tr>\n",
       "  </thead>\n",
       "  <tbody>\n",
       "    <tr>\n",
       "      <th>0</th>\n",
       "      <td>d0</td>\n",
       "      <td>هذا هو الدرس الأول  من مقرر استرجاع المعلومات</td>\n",
       "      <td>درس اول مقرر استرجاع معلوم</td>\n",
       "    </tr>\n",
       "    <tr>\n",
       "      <th>1</th>\n",
       "      <td>d1</td>\n",
       "      <td>المقرر موجه لطلاب جامعة القلمون كلية الهندسة ق...</td>\n",
       "      <td>مقرر موج لطلاب جامع قلم كلي هندسه قسم تقان مع...</td>\n",
       "    </tr>\n",
       "    <tr>\n",
       "      <th>2</th>\n",
       "      <td>d2</td>\n",
       "      <td>رمز المقرر هو ENIT5517</td>\n",
       "      <td>رمز مقرر ENIT5517</td>\n",
       "    </tr>\n",
       "    <tr>\n",
       "      <th>3</th>\n",
       "      <td>d3</td>\n",
       "      <td>نأمل أن نقدم لكم الفائدة المرجوة</td>\n",
       "      <td>نامل نقدم فاءده مرجوه</td>\n",
       "    </tr>\n",
       "    <tr>\n",
       "      <th>4</th>\n",
       "      <td>d4</td>\n",
       "      <td>نرحب بأسئلتكم واستفساراتكم</td>\n",
       "      <td>نرحب باسءل واستفسارا</td>\n",
       "    </tr>\n",
       "  </tbody>\n",
       "</table>\n",
       "</div>"
      ],
      "text/plain": [
       "  docno                                           raw_text  \\\n",
       "0    d0      هذا هو الدرس الأول  من مقرر استرجاع المعلومات   \n",
       "1    d1  المقرر موجه لطلاب جامعة القلمون كلية الهندسة ق...   \n",
       "2    d2                            رمز المقرر هو ENIT5517    \n",
       "3    d3                   نأمل أن نقدم لكم الفائدة المرجوة   \n",
       "4    d4                         نرحب بأسئلتكم واستفساراتكم   \n",
       "\n",
       "                                                text  \n",
       "0                         درس اول مقرر استرجاع معلوم  \n",
       "1   مقرر موج لطلاب جامع قلم كلي هندسه قسم تقان مع...  \n",
       "2                                  رمز مقرر ENIT5517  \n",
       "3                              نامل نقدم فاءده مرجوه  \n",
       "4                               نرحب باسءل واستفسارا  "
      ]
     },
     "execution_count": 55,
     "metadata": {},
     "output_type": "execute_result"
    }
   ],
   "source": [
    "docs_df.head()"
   ]
  },
  {
   "cell_type": "code",
   "execution_count": 56,
   "metadata": {},
   "outputs": [
    {
     "name": "stdout",
     "output_type": "stream",
     "text": [
      "[' درس اول مقرر استرجاع معلوم', ' مقرر موج لطلاب جامع قلم كلي هندسه قسم تقان معلوم معلوم', ' رمز مقرر ENIT5517', ' نامل نقدم فاءده مرجوه', ' نرحب باسءل واستفسارا']\n"
     ]
    }
   ],
   "source": [
    "m=docs_df['text'].tolist()\n",
    "print(m)"
   ]
  },
  {
   "cell_type": "code",
   "execution_count": 57,
   "metadata": {},
   "outputs": [
    {
     "data": {
      "text/html": [
       "<div>\n",
       "<style scoped>\n",
       "    .dataframe tbody tr th:only-of-type {\n",
       "        vertical-align: middle;\n",
       "    }\n",
       "\n",
       "    .dataframe tbody tr th {\n",
       "        vertical-align: top;\n",
       "    }\n",
       "\n",
       "    .dataframe thead th {\n",
       "        text-align: right;\n",
       "    }\n",
       "</style>\n",
       "<table border=\"1\" class=\"dataframe\">\n",
       "  <thead>\n",
       "    <tr style=\"text-align: right;\">\n",
       "      <th></th>\n",
       "      <th>docno</th>\n",
       "      <th>text</th>\n",
       "    </tr>\n",
       "  </thead>\n",
       "  <tbody>\n",
       "    <tr>\n",
       "      <th>0</th>\n",
       "      <td>d0</td>\n",
       "      <td>درس اول مقرر استرجاع معلوم</td>\n",
       "    </tr>\n",
       "    <tr>\n",
       "      <th>1</th>\n",
       "      <td>d1</td>\n",
       "      <td>مقرر موج لطلاب جامع قلم كلي هندسه قسم تقان مع...</td>\n",
       "    </tr>\n",
       "    <tr>\n",
       "      <th>2</th>\n",
       "      <td>d2</td>\n",
       "      <td>رمز مقرر ENIT5517</td>\n",
       "    </tr>\n",
       "    <tr>\n",
       "      <th>3</th>\n",
       "      <td>d3</td>\n",
       "      <td>نامل نقدم فاءده مرجوه</td>\n",
       "    </tr>\n",
       "    <tr>\n",
       "      <th>4</th>\n",
       "      <td>d4</td>\n",
       "      <td>نرحب باسءل واستفسارا</td>\n",
       "    </tr>\n",
       "  </tbody>\n",
       "</table>\n",
       "</div>"
      ],
      "text/plain": [
       "  docno                                               text\n",
       "0    d0                         درس اول مقرر استرجاع معلوم\n",
       "1    d1   مقرر موج لطلاب جامع قلم كلي هندسه قسم تقان مع...\n",
       "2    d2                                  رمز مقرر ENIT5517\n",
       "3    d3                              نامل نقدم فاءده مرجوه\n",
       "4    d4                               نرحب باسءل واستفسارا"
      ]
     },
     "execution_count": 57,
     "metadata": {},
     "output_type": "execute_result"
    }
   ],
   "source": [
    "mydf=pd.DataFrame(data=docs_df,columns=['docno','text'])\n",
    "mydf.head()"
   ]
  },
  {
   "attachments": {},
   "cell_type": "markdown",
   "metadata": {},
   "source": [
    "<h1> indexer building</h1>"
   ]
  },
  {
   "cell_type": "code",
   "execution_count": 58,
   "metadata": {},
   "outputs": [
    {
     "name": "stderr",
     "output_type": "stream",
     "text": [
      "C:\\Users\\asus\\AppData\\Local\\Temp\\ipykernel_1940\\1645669614.py:3: DeprecationWarning: Setting of tokeniser property directly is deprecated\n",
      "  index_ref = pd_indexer.index(docs_df[\"text\"],docs_df[\"docno\"])\n",
      "c:\\Users\\asus\\AppData\\Local\\Programs\\Python\\Python310\\lib\\site-packages\\pyterrier\\index.py:628: FutureWarning: iteritems is deprecated and will be removed in a future version. Use .items instead.\n",
      "  for column, value in meta_column[1].iteritems():\n"
     ]
    },
    {
     "name": "stdout",
     "output_type": "stream",
     "text": [
      "12:00:34.206 [main] ERROR org.terrier.structures.indexing.Indexer - Could not rename index\n",
      "java.io.IOException: Rename of index structure file '..\\myindex/data_1.direct.bf' (exists) to '..\\myindex/data.direct.bf' (exists) failed - likely that source file is still open. Possible indexing bug?\n",
      "\tat org.terrier.structures.IndexUtil.renameIndex(IndexUtil.java:379)\n",
      "\tat org.terrier.structures.indexing.Indexer.index(Indexer.java:388)\n",
      "\tat org.terrier.structures.indexing.Indexer.index(Indexer.java:355)\n"
     ]
    }
   ],
   "source": [
    "pd_indexer = pt.DFIndexer(\"..\\\\myindex\",overwrite=True)\n",
    "pd_indexer.setProperty(\"tokeniser\", \"UTFTokeniser\")\n",
    "index_ref = pd_indexer.index(docs_df[\"text\"],docs_df[\"docno\"])"
   ]
  },
  {
   "cell_type": "code",
   "execution_count": 59,
   "metadata": {},
   "outputs": [
    {
     "name": "stdout",
     "output_type": "stream",
     "text": [
      "..\\myindex/data.properties\n"
     ]
    }
   ],
   "source": [
    "print(index_ref.toString())"
   ]
  },
  {
   "cell_type": "code",
   "execution_count": 60,
   "metadata": {},
   "outputs": [],
   "source": [
    "index=pt.IndexFactory.of(index_ref)"
   ]
  },
  {
   "cell_type": "code",
   "execution_count": 61,
   "metadata": {},
   "outputs": [
    {
     "name": "stdout",
     "output_type": "stream",
     "text": [
      "Number of documents: 5\n",
      "Number of terms: 22\n",
      "Number of postings: 25\n",
      "Number of fields: 0\n",
      "Number of tokens: 26\n",
      "Field names: []\n",
      "Positions:   false\n",
      "\n"
     ]
    }
   ],
   "source": [
    "print(index.getCollectionStatistics().toString())"
   ]
  },
  {
   "cell_type": "code",
   "execution_count": 62,
   "metadata": {},
   "outputs": [
    {
     "name": "stdout",
     "output_type": "stream",
     "text": [
      "enit5517 -> term13 Nt=1 TF=1 maxTF=1 @{0 0 0} \n",
      "استرجاع -> term0 Nt=1 TF=1 maxTF=1 @{0 0 4} \n",
      "اول -> term1 Nt=1 TF=1 maxTF=1 @{0 0 6} \n",
      "باسءل -> term21 Nt=1 TF=1 maxTF=1 @{0 1 0} \n",
      "تقان -> term6 Nt=1 TF=1 maxTF=1 @{0 1 6} \n",
      "جامع -> term8 Nt=1 TF=1 maxTF=1 @{0 2 2} \n",
      "درس -> term4 Nt=1 TF=1 maxTF=1 @{0 2 6} \n",
      "رمز -> term14 Nt=1 TF=1 maxTF=1 @{0 3 0} \n",
      "فاءده -> term15 Nt=1 TF=1 maxTF=1 @{0 3 4} \n",
      "قسم -> term9 Nt=1 TF=1 maxTF=1 @{0 4 2} \n",
      "قلم -> term10 Nt=1 TF=1 maxTF=1 @{0 4 6} \n",
      "كلي -> term7 Nt=1 TF=1 maxTF=1 @{0 5 2} \n",
      "لطلاب -> term11 Nt=1 TF=1 maxTF=1 @{0 5 6} \n",
      "مرجوه -> term17 Nt=1 TF=1 maxTF=1 @{0 6 2} \n",
      "معلوم -> term3 Nt=2 TF=3 maxTF=2 @{0 7 0} \n",
      "مقرر -> term2 Nt=3 TF=3 maxTF=1 @{0 7 5} \n",
      "موج -> term5 Nt=1 TF=1 maxTF=1 @{0 8 3} \n",
      "نامل -> term16 Nt=1 TF=1 maxTF=1 @{0 8 7} \n",
      "نرحب -> term19 Nt=1 TF=1 maxTF=1 @{0 9 5} \n",
      "نقدم -> term18 Nt=1 TF=1 maxTF=1 @{0 10 3} \n",
      "هندسه -> term12 Nt=1 TF=1 maxTF=1 @{0 11 1} \n",
      "واستفسارا -> term20 Nt=1 TF=1 maxTF=1 @{0 11 5} \n"
     ]
    }
   ],
   "source": [
    "for kv in index.getLexicon():\n",
    "  print(\"%s -> %s \" % (kv.getKey(), kv.getValue().toString())) "
   ]
  },
  {
   "attachments": {},
   "cell_type": "markdown",
   "metadata": {},
   "source": [
    "<h1>now we want use TF_IDF score</h1>"
   ]
  },
  {
   "cell_type": "code",
   "execution_count": 63,
   "metadata": {},
   "outputs": [],
   "source": [
    "model=pt.BatchRetrieve(index_ref,wmodel='TF_IDF')"
   ]
  },
  {
   "cell_type": "code",
   "execution_count": 64,
   "metadata": {},
   "outputs": [
    {
     "data": {
      "text/html": [
       "<div>\n",
       "<style scoped>\n",
       "    .dataframe tbody tr th:only-of-type {\n",
       "        vertical-align: middle;\n",
       "    }\n",
       "\n",
       "    .dataframe tbody tr th {\n",
       "        vertical-align: top;\n",
       "    }\n",
       "\n",
       "    .dataframe thead th {\n",
       "        text-align: right;\n",
       "    }\n",
       "</style>\n",
       "<table border=\"1\" class=\"dataframe\">\n",
       "  <thead>\n",
       "    <tr style=\"text-align: right;\">\n",
       "      <th></th>\n",
       "      <th>qid</th>\n",
       "      <th>docid</th>\n",
       "      <th>docno</th>\n",
       "      <th>rank</th>\n",
       "      <th>score</th>\n",
       "      <th>query</th>\n",
       "    </tr>\n",
       "  </thead>\n",
       "  <tbody>\n",
       "    <tr>\n",
       "      <th>0</th>\n",
       "      <td>1</td>\n",
       "      <td>1</td>\n",
       "      <td>d1</td>\n",
       "      <td>0</td>\n",
       "      <td>1.936394</td>\n",
       "      <td>جامع قلم خاصه</td>\n",
       "    </tr>\n",
       "  </tbody>\n",
       "</table>\n",
       "</div>"
      ],
      "text/plain": [
       "  qid  docid docno  rank     score          query\n",
       "0   1      1    d1     0  1.936394  جامع قلم خاصه"
      ]
     },
     "execution_count": 64,
     "metadata": {},
     "output_type": "execute_result"
    }
   ],
   "source": [
    "resultofdocno=model.search('جامع قلم خاصه')\n",
    "resultofdocno"
   ]
  },
  {
   "attachments": {},
   "cell_type": "markdown",
   "metadata": {},
   "source": [
    "<h4>print just query with its docno <h4>"
   ]
  },
  {
   "cell_type": "code",
   "execution_count": 65,
   "metadata": {},
   "outputs": [
    {
     "data": {
      "text/html": [
       "<div>\n",
       "<style scoped>\n",
       "    .dataframe tbody tr th:only-of-type {\n",
       "        vertical-align: middle;\n",
       "    }\n",
       "\n",
       "    .dataframe tbody tr th {\n",
       "        vertical-align: top;\n",
       "    }\n",
       "\n",
       "    .dataframe thead th {\n",
       "        text-align: right;\n",
       "    }\n",
       "</style>\n",
       "<table border=\"1\" class=\"dataframe\">\n",
       "  <thead>\n",
       "    <tr style=\"text-align: right;\">\n",
       "      <th></th>\n",
       "      <th>query</th>\n",
       "      <th>docno</th>\n",
       "    </tr>\n",
       "  </thead>\n",
       "  <tbody>\n",
       "    <tr>\n",
       "      <th>0</th>\n",
       "      <td>جامع قلم خاصه</td>\n",
       "      <td>d1</td>\n",
       "    </tr>\n",
       "  </tbody>\n",
       "</table>\n",
       "</div>"
      ],
      "text/plain": [
       "           query docno\n",
       "0  جامع قلم خاصه    d1"
      ]
     },
     "execution_count": 65,
     "metadata": {},
     "output_type": "execute_result"
    }
   ],
   "source": [
    "resultofdocno[['query','docno']]\n"
   ]
  },
  {
   "attachments": {},
   "cell_type": "markdown",
   "metadata": {},
   "source": [
    "<h2>we want to make preprocessing in query <h2>"
   ]
  },
  {
   "cell_type": "code",
   "execution_count": 66,
   "metadata": {},
   "outputs": [
    {
     "data": {
      "text/plain": [
       "' جامع قلم خاصه'"
      ]
     },
     "execution_count": 66,
     "metadata": {},
     "output_type": "execute_result"
    }
   ],
   "source": [
    "q='جامعة القلمون الخاصة'\n",
    "q=stem(normalize(remove_stopWords(q)))\n",
    "q"
   ]
  },
  {
   "cell_type": "code",
   "execution_count": 67,
   "metadata": {},
   "outputs": [
    {
     "data": {
      "text/html": [
       "<div>\n",
       "<style scoped>\n",
       "    .dataframe tbody tr th:only-of-type {\n",
       "        vertical-align: middle;\n",
       "    }\n",
       "\n",
       "    .dataframe tbody tr th {\n",
       "        vertical-align: top;\n",
       "    }\n",
       "\n",
       "    .dataframe thead th {\n",
       "        text-align: right;\n",
       "    }\n",
       "</style>\n",
       "<table border=\"1\" class=\"dataframe\">\n",
       "  <thead>\n",
       "    <tr style=\"text-align: right;\">\n",
       "      <th></th>\n",
       "      <th>docno</th>\n",
       "      <th>query</th>\n",
       "    </tr>\n",
       "  </thead>\n",
       "  <tbody>\n",
       "    <tr>\n",
       "      <th>0</th>\n",
       "      <td>d1</td>\n",
       "      <td>جامع قلم خاصه</td>\n",
       "    </tr>\n",
       "  </tbody>\n",
       "</table>\n",
       "</div>"
      ],
      "text/plain": [
       "  docno           query\n",
       "0    d1   جامع قلم خاصه"
      ]
     },
     "execution_count": 67,
     "metadata": {},
     "output_type": "execute_result"
    }
   ],
   "source": [
    "resultofdocno=model.search(q)\n",
    "resultofdocno[['docno','query']]"
   ]
  },
  {
   "attachments": {},
   "cell_type": "markdown",
   "metadata": {},
   "source": [
    "<h5>now we want to show the docno with its (query and documents )and documents with preprocessing<h5>"
   ]
  },
  {
   "cell_type": "code",
   "execution_count": 68,
   "metadata": {},
   "outputs": [
    {
     "data": {
      "text/plain": [
       "' مقرر استرجاع معلوم جامع قلم خاصه'"
      ]
     },
     "execution_count": 68,
     "metadata": {},
     "output_type": "execute_result"
    }
   ],
   "source": [
    "q='مقرر استرجاع المعلومات في جامعة القلمون الخاصة'\n",
    "q=stem(normalize(remove_stopWords(q)))\n",
    "q"
   ]
  },
  {
   "cell_type": "code",
   "execution_count": 69,
   "metadata": {},
   "outputs": [
    {
     "data": {
      "text/plain": [
       "['d1', 'd0', 'd2']"
      ]
     },
     "execution_count": 69,
     "metadata": {},
     "output_type": "execute_result"
    }
   ],
   "source": [
    "res=model.search(q)\n",
    "docnoList=res['docno'].tolist()\n",
    "docnoList"
   ]
  },
  {
   "cell_type": "code",
   "execution_count": 70,
   "metadata": {},
   "outputs": [
    {
     "data": {
      "text/html": [
       "<div>\n",
       "<style scoped>\n",
       "    .dataframe tbody tr th:only-of-type {\n",
       "        vertical-align: middle;\n",
       "    }\n",
       "\n",
       "    .dataframe tbody tr th {\n",
       "        vertical-align: top;\n",
       "    }\n",
       "\n",
       "    .dataframe thead th {\n",
       "        text-align: right;\n",
       "    }\n",
       "</style>\n",
       "<table border=\"1\" class=\"dataframe\">\n",
       "  <thead>\n",
       "    <tr style=\"text-align: right;\">\n",
       "      <th></th>\n",
       "      <th>docno</th>\n",
       "      <th>raw_text</th>\n",
       "      <th>text</th>\n",
       "    </tr>\n",
       "  </thead>\n",
       "  <tbody>\n",
       "    <tr>\n",
       "      <th>0</th>\n",
       "      <td>d0</td>\n",
       "      <td>هذا هو الدرس الأول  من مقرر استرجاع المعلومات</td>\n",
       "      <td>درس اول مقرر استرجاع معلوم</td>\n",
       "    </tr>\n",
       "    <tr>\n",
       "      <th>1</th>\n",
       "      <td>d1</td>\n",
       "      <td>المقرر موجه لطلاب جامعة القلمون كلية الهندسة ق...</td>\n",
       "      <td>مقرر موج لطلاب جامع قلم كلي هندسه قسم تقان مع...</td>\n",
       "    </tr>\n",
       "    <tr>\n",
       "      <th>2</th>\n",
       "      <td>d2</td>\n",
       "      <td>رمز المقرر هو ENIT5517</td>\n",
       "      <td>رمز مقرر ENIT5517</td>\n",
       "    </tr>\n",
       "  </tbody>\n",
       "</table>\n",
       "</div>"
      ],
      "text/plain": [
       "  docno                                           raw_text  \\\n",
       "0    d0      هذا هو الدرس الأول  من مقرر استرجاع المعلومات   \n",
       "1    d1  المقرر موجه لطلاب جامعة القلمون كلية الهندسة ق...   \n",
       "2    d2                            رمز المقرر هو ENIT5517    \n",
       "\n",
       "                                                text  \n",
       "0                         درس اول مقرر استرجاع معلوم  \n",
       "1   مقرر موج لطلاب جامع قلم كلي هندسه قسم تقان مع...  \n",
       "2                                  رمز مقرر ENIT5517  "
      ]
     },
     "execution_count": 70,
     "metadata": {},
     "output_type": "execute_result"
    }
   ],
   "source": [
    "myresult=docs_df[docs_df['docno'].isin(docnoList)]\n",
    "myresult"
   ]
  },
  {
   "cell_type": "code",
   "execution_count": 71,
   "metadata": {},
   "outputs": [
    {
     "name": "stderr",
     "output_type": "stream",
     "text": [
      "C:\\Users\\asus\\AppData\\Local\\Temp\\ipykernel_1940\\2981434431.py:1: SettingWithCopyWarning: \n",
      "A value is trying to be set on a copy of a slice from a DataFrame.\n",
      "Try using .loc[row_indexer,col_indexer] = value instead\n",
      "\n",
      "See the caveats in the documentation: https://pandas.pydata.org/pandas-docs/stable/user_guide/indexing.html#returning-a-view-versus-a-copy\n",
      "  myresult['query']=res['query']\n"
     ]
    }
   ],
   "source": [
    "myresult['query']=res['query']"
   ]
  },
  {
   "cell_type": "code",
   "execution_count": 72,
   "metadata": {},
   "outputs": [
    {
     "data": {
      "text/html": [
       "<div>\n",
       "<style scoped>\n",
       "    .dataframe tbody tr th:only-of-type {\n",
       "        vertical-align: middle;\n",
       "    }\n",
       "\n",
       "    .dataframe tbody tr th {\n",
       "        vertical-align: top;\n",
       "    }\n",
       "\n",
       "    .dataframe thead th {\n",
       "        text-align: right;\n",
       "    }\n",
       "</style>\n",
       "<table border=\"1\" class=\"dataframe\">\n",
       "  <thead>\n",
       "    <tr style=\"text-align: right;\">\n",
       "      <th></th>\n",
       "      <th>docno</th>\n",
       "      <th>raw_text</th>\n",
       "      <th>text</th>\n",
       "      <th>query</th>\n",
       "    </tr>\n",
       "  </thead>\n",
       "  <tbody>\n",
       "    <tr>\n",
       "      <th>0</th>\n",
       "      <td>d0</td>\n",
       "      <td>هذا هو الدرس الأول  من مقرر استرجاع المعلومات</td>\n",
       "      <td>درس اول مقرر استرجاع معلوم</td>\n",
       "      <td>مقرر استرجاع معلوم جامع قلم خاصه</td>\n",
       "    </tr>\n",
       "    <tr>\n",
       "      <th>1</th>\n",
       "      <td>d1</td>\n",
       "      <td>المقرر موجه لطلاب جامعة القلمون كلية الهندسة ق...</td>\n",
       "      <td>مقرر موج لطلاب جامع قلم كلي هندسه قسم تقان مع...</td>\n",
       "      <td>مقرر استرجاع معلوم جامع قلم خاصه</td>\n",
       "    </tr>\n",
       "    <tr>\n",
       "      <th>2</th>\n",
       "      <td>d2</td>\n",
       "      <td>رمز المقرر هو ENIT5517</td>\n",
       "      <td>رمز مقرر ENIT5517</td>\n",
       "      <td>مقرر استرجاع معلوم جامع قلم خاصه</td>\n",
       "    </tr>\n",
       "  </tbody>\n",
       "</table>\n",
       "</div>"
      ],
      "text/plain": [
       "  docno                                           raw_text  \\\n",
       "0    d0      هذا هو الدرس الأول  من مقرر استرجاع المعلومات   \n",
       "1    d1  المقرر موجه لطلاب جامعة القلمون كلية الهندسة ق...   \n",
       "2    d2                            رمز المقرر هو ENIT5517    \n",
       "\n",
       "                                                text  \\\n",
       "0                         درس اول مقرر استرجاع معلوم   \n",
       "1   مقرر موج لطلاب جامع قلم كلي هندسه قسم تقان مع...   \n",
       "2                                  رمز مقرر ENIT5517   \n",
       "\n",
       "                               query  \n",
       "0   مقرر استرجاع معلوم جامع قلم خاصه  \n",
       "1   مقرر استرجاع معلوم جامع قلم خاصه  \n",
       "2   مقرر استرجاع معلوم جامع قلم خاصه  "
      ]
     },
     "execution_count": 72,
     "metadata": {},
     "output_type": "execute_result"
    }
   ],
   "source": [
    "myresult"
   ]
  },
  {
   "cell_type": "code",
   "execution_count": null,
   "metadata": {},
   "outputs": [],
   "source": []
  }
 ],
 "metadata": {
  "kernelspec": {
   "display_name": "Python 3",
   "language": "python",
   "name": "python3"
  },
  "language_info": {
   "codemirror_mode": {
    "name": "ipython",
    "version": 3
   },
   "file_extension": ".py",
   "mimetype": "text/x-python",
   "name": "python",
   "nbconvert_exporter": "python",
   "pygments_lexer": "ipython3",
   "version": "3.10.8"
  },
  "orig_nbformat": 4
 },
 "nbformat": 4,
 "nbformat_minor": 2
}
