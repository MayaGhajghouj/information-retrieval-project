{
 "cells": [
  {
   "attachments": {},
   "cell_type": "markdown",
   "metadata": {},
   "source": [
    "# <font color ='repurpled'>MAYA GHAJGHOUJ 201820042 </font>"
   ]
  },
  {
   "attachments": {},
   "cell_type": "markdown",
   "metadata": {},
   "source": [
    "<H3><font color ='orange'>First </font> we build the class that have all functions</H3>"
   ]
  },
  {
   "cell_type": "code",
   "execution_count": 41,
   "metadata": {},
   "outputs": [],
   "source": [
    "class BoleanRetrival:\n",
    "    def __init__(self,query,collections):\n",
    "        self.query=query\n",
    "        self.collections=collections\n",
    "        self.get_terms=self.get_terms\n",
    "        self.get_unique_terms=self.get_unique_terms\n",
    "        self.get_document_collection_terms=self.get_document_collection_terms\n",
    "        self.display_dict=self.display_dict\n",
    "        self.term_document_incidence_matrix=self.term_document_incidence_matrix\n",
    "        self.term_incidence_vector=self.term_incidence_vector\n",
    "        self.query_filteration=self.query_filteration\n",
    "        self.boolean_operator_processing=self.boolean_operator_processing\n",
    "        self.boolean_operators={\"AND\",\"OR\",\"NOT\"}\n",
    "\n",
    "\n",
    "    def get_terms(self):\n",
    "        terms=[ ]\n",
    "        for doc in self. collections:\n",
    "          for term in  self. collections[doc].split() :\n",
    "            terms.append(term)\n",
    "        return terms\n",
    "    \n",
    "    def get_unique_terms(self,terms):\n",
    "        unique_terms=[]\n",
    "        for d in terms :\n",
    "            if d not in unique_terms:\n",
    "                unique_terms.append(d)\n",
    "        return unique_terms\n",
    "    \n",
    "    def get_document_collection_terms(self):\n",
    "        docs_colllection={}\n",
    "        for doc in  self. collections:\n",
    "            if doc not in self. boolean_operators:\n",
    "                docs_colllection[doc]=self.get_unique_terms(self.collections[doc].split())\n",
    "        return docs_colllection\n",
    "    \n",
    "    def display_dict(self,data):\n",
    "        for doc in data:\n",
    "            print(data[doc],'  :  ',doc)\n",
    "            print('\\n')\n",
    "            \n",
    "\n",
    "    def term_document_incidence_matrix(self):\n",
    "## list of terms from the data file collection\n",
    "        terms=self. get_terms()\n",
    "#list of unique terms\n",
    "        unique_terms=self. get_unique_terms(terms)\n",
    "#Document collection terms\n",
    "        docs_terms=self.get_document_collection_terms()\n",
    "#TermDocumentIncidenceMatrix\n",
    "        term_docs_matrix={}\n",
    "        for term in unique_terms:\n",
    "            vector=[]\n",
    "            for c in docs_terms:\n",
    "                if term in docs_terms[c]:\n",
    "                    vector.append(1)\n",
    "                else :\n",
    "                    vector.append(0)\n",
    "                term_docs_matrix[term]=vector\n",
    "        return term_docs_matrix\n",
    "    \n",
    "#to get the vector for each terms    \n",
    "    def term_incidence_vector(self,term,term_docs_incid_matrix):       \n",
    "        try:\n",
    "            return term_docs_incid_matrix[term]\n",
    "        except:\n",
    "            return 'term not found'\n",
    "# to get the uniqe terms from the query that much the collection and bolean operator \n",
    "    def query_filteration(self):\n",
    "        terms=self. get_terms()\n",
    "        unique_terms=self.get_unique_terms(terms)\n",
    "        qterms=[]\n",
    "        splitted_query=self.query.split()\n",
    "        for qterm in splitted_query:\n",
    "            if qterm in unique_terms or qterm in self.boolean_operators:\n",
    "                qterms.append(qterm)\n",
    "        return qterms\n",
    "    \n",
    "    def boolean_operator_processing(self,bool_operator,prevV,nextV):\n",
    "        if bool_operator == \"AND\":\n",
    "            return [a & b for a, b in zip(prevV, nextV)]\n",
    "        elif bool_operator==\"OR\" :              \n",
    "            return [a | b for a, b in zip(prevV, nextV)]\n",
    "        elif bool_operator == \"NOT\":\n",
    "            return [1-a for a in prevV]\n",
    "    \n",
    "    def bolean_retrival_func (self):\n",
    "        MyMatrix=self.term_document_incidence_matrix()\n",
    "        qTerms=self.query_filteration()\n",
    "\n",
    "        v1=self.term_incidence_vector(qTerms[0],MyMatrix)\n",
    "       # print(qTerms[0])\n",
    "        print(\"the query is found in docs :\\n\")\n",
    "        myoperation=\"AND\"\n",
    "\n",
    "        for i in range(1,len(qTerms)):\n",
    "            if(qTerms[i] in self.boolean_operators):\n",
    "                myoperation=qTerms[i]\n",
    "            else:\n",
    "                v2=self.term_incidence_vector(qTerms[i],MyMatrix)\n",
    "                v2=self.boolean_operator_processing(myoperation,v1,v2)   \n",
    "                  \n",
    "        return v2  \n",
    "    \n",
    "    \n",
    "    "
   ]
  },
  {
   "attachments": {},
   "cell_type": "markdown",
   "metadata": {},
   "source": [
    "<H3><font color ='orange'>second : </font>  we make our docs that we need to searsh in it & query that i want to retrive my info from it</H3>"
   ]
  },
  {
   "cell_type": "code",
   "execution_count": 42,
   "metadata": {},
   "outputs": [],
   "source": [
    "d0=\"هذا هو الدرس الأول  من مقرر استرجاع المعلومات\"\n",
    "d1=\"المقرر موجه لطلاب جامعة القلمون كلية الهندسة قسم تقانة المعلومات المعلومات\"\n",
    "d2 =\"رمز المقرر هو ENIT5517 \"\n",
    "d3 = \"نأمل أن نقدم لكم الفائدة المرجوة\"\n",
    "d4 = \"نرحب بأسئلتكم واستفساراتكم\"\n",
    "collection = {\"doc0\": d0,\n",
    "\"doc1\": d1,\n",
    "\"doc2\": d2,\n",
    "\"doc3\": d3,\n",
    "\"doc4\": d4}\n",
    "query=\"استرجاع AND المعلومات نظم\"\n"
   ]
  },
  {
   "attachments": {},
   "cell_type": "markdown",
   "metadata": {},
   "source": [
    "<H3><font color ='orange'>Third </font> start make object from my class and invoke all functions in it</H3>"
   ]
  },
  {
   "cell_type": "code",
   "execution_count": 43,
   "metadata": {},
   "outputs": [],
   "source": [
    "myobj=BoleanRetrival(query,collection)\n"
   ]
  },
  {
   "cell_type": "code",
   "execution_count": 44,
   "metadata": {},
   "outputs": [
    {
     "name": "stdout",
     "output_type": "stream",
     "text": [
      "['هذا', 'هو', 'الدرس', 'الأول', 'من', 'مقرر', 'استرجاع', 'المعلومات', 'المقرر', 'موجه', 'لطلاب', 'جامعة', 'القلمون', 'كلية', 'الهندسة', 'قسم', 'تقانة', 'رمز', 'ENIT5517', 'نأمل', 'أن', 'نقدم', 'لكم', 'الفائدة', 'المرجوة', 'نرحب', 'بأسئلتكم', 'واستفساراتكم']\n",
      "\n",
      "===================================================================\n",
      "\n",
      "['هذا', 'هو', 'الدرس', 'الأول', 'من', 'مقرر', 'استرجاع', 'المعلومات']   :   doc0\n",
      "\n",
      "\n",
      "['المقرر', 'موجه', 'لطلاب', 'جامعة', 'القلمون', 'كلية', 'الهندسة', 'قسم', 'تقانة', 'المعلومات']   :   doc1\n",
      "\n",
      "\n",
      "['رمز', 'المقرر', 'هو', 'ENIT5517']   :   doc2\n",
      "\n",
      "\n",
      "['نأمل', 'أن', 'نقدم', 'لكم', 'الفائدة', 'المرجوة']   :   doc3\n",
      "\n",
      "\n",
      "['نرحب', 'بأسئلتكم', 'واستفساراتكم']   :   doc4\n",
      "\n",
      "\n"
     ]
    }
   ],
   "source": [
    "x=myobj.get_terms()\n",
    "UniqeTerms=myobj.get_unique_terms(x)\n",
    "print(UniqeTerms)\n",
    "print('\\n===================================================================\\n')\n",
    "UniqeItemEechDocs=myobj.get_document_collection_terms()\n",
    "myobj.display_dict(UniqeItemEechDocs)\n",
    "\n"
   ]
  },
  {
   "cell_type": "code",
   "execution_count": 45,
   "metadata": {},
   "outputs": [
    {
     "name": "stdout",
     "output_type": "stream",
     "text": [
      "[1, 0, 0, 0, 0]   :   هذا\n",
      "\n",
      "\n",
      "[1, 0, 1, 0, 0]   :   هو\n",
      "\n",
      "\n",
      "[1, 0, 0, 0, 0]   :   الدرس\n",
      "\n",
      "\n",
      "[1, 0, 0, 0, 0]   :   الأول\n",
      "\n",
      "\n",
      "[1, 0, 0, 0, 0]   :   من\n",
      "\n",
      "\n",
      "[1, 0, 0, 0, 0]   :   مقرر\n",
      "\n",
      "\n",
      "[1, 0, 0, 0, 0]   :   استرجاع\n",
      "\n",
      "\n",
      "[1, 1, 0, 0, 0]   :   المعلومات\n",
      "\n",
      "\n",
      "[0, 1, 1, 0, 0]   :   المقرر\n",
      "\n",
      "\n",
      "[0, 1, 0, 0, 0]   :   موجه\n",
      "\n",
      "\n",
      "[0, 1, 0, 0, 0]   :   لطلاب\n",
      "\n",
      "\n",
      "[0, 1, 0, 0, 0]   :   جامعة\n",
      "\n",
      "\n",
      "[0, 1, 0, 0, 0]   :   القلمون\n",
      "\n",
      "\n",
      "[0, 1, 0, 0, 0]   :   كلية\n",
      "\n",
      "\n",
      "[0, 1, 0, 0, 0]   :   الهندسة\n",
      "\n",
      "\n",
      "[0, 1, 0, 0, 0]   :   قسم\n",
      "\n",
      "\n",
      "[0, 1, 0, 0, 0]   :   تقانة\n",
      "\n",
      "\n",
      "[0, 0, 1, 0, 0]   :   رمز\n",
      "\n",
      "\n",
      "[0, 0, 1, 0, 0]   :   ENIT5517\n",
      "\n",
      "\n",
      "[0, 0, 0, 1, 0]   :   نأمل\n",
      "\n",
      "\n",
      "[0, 0, 0, 1, 0]   :   أن\n",
      "\n",
      "\n",
      "[0, 0, 0, 1, 0]   :   نقدم\n",
      "\n",
      "\n",
      "[0, 0, 0, 1, 0]   :   لكم\n",
      "\n",
      "\n",
      "[0, 0, 0, 1, 0]   :   الفائدة\n",
      "\n",
      "\n",
      "[0, 0, 0, 1, 0]   :   المرجوة\n",
      "\n",
      "\n",
      "[0, 0, 0, 0, 1]   :   نرحب\n",
      "\n",
      "\n",
      "[0, 0, 0, 0, 1]   :   بأسئلتكم\n",
      "\n",
      "\n",
      "[0, 0, 0, 0, 1]   :   واستفساراتكم\n",
      "\n",
      "\n"
     ]
    }
   ],
   "source": [
    "MyMatrix=myobj.term_document_incidence_matrix()\n",
    "myobj.display_dict(MyMatrix)\n"
   ]
  },
  {
   "cell_type": "code",
   "execution_count": 46,
   "metadata": {},
   "outputs": [
    {
     "name": "stdout",
     "output_type": "stream",
     "text": [
      "['استرجاع', 'AND', 'المعلومات']\n"
     ]
    }
   ],
   "source": [
    "FilterQuery=myobj.query_filteration()\n",
    "print(FilterQuery)"
   ]
  },
  {
   "attachments": {},
   "cell_type": "markdown",
   "metadata": {},
   "source": [
    "Her we noted that the query have a word \"نظم\" and not appear in our query"
   ]
  },
  {
   "cell_type": "code",
   "execution_count": 47,
   "metadata": {},
   "outputs": [
    {
     "name": "stdout",
     "output_type": "stream",
     "text": [
      "[1, 0, 0, 0, 0]\n",
      "[1, 1, 0, 0, 0]\n",
      "[1, 0, 0, 0, 0]\n"
     ]
    }
   ],
   "source": [
    "v1=myobj.term_incidence_vector(\"استرجاع\",MyMatrix)\n",
    "print(v1)\n",
    "v2=myobj.term_incidence_vector(\"المعلومات\",MyMatrix)\n",
    "print(v2)\n",
    "res=myobj.boolean_operator_processing(FilterQuery[1],v1,v2)\n",
    "print(res)\n"
   ]
  },
  {
   "cell_type": "code",
   "execution_count": 48,
   "metadata": {},
   "outputs": [
    {
     "name": "stdout",
     "output_type": "stream",
     "text": [
      "the query is found in docs :\n",
      "\n",
      "[1, 0, 0, 0, 0]\n"
     ]
    }
   ],
   "source": [
    "my_retrival=myobj.bolean_retrival_func()\n",
    "print(my_retrival)"
   ]
  },
  {
   "cell_type": "code",
   "execution_count": null,
   "metadata": {},
   "outputs": [],
   "source": []
  }
 ],
 "metadata": {
  "kernelspec": {
   "display_name": "Python 3",
   "language": "python",
   "name": "python3"
  },
  "language_info": {
   "codemirror_mode": {
    "name": "ipython",
    "version": 3
   },
   "file_extension": ".py",
   "mimetype": "text/x-python",
   "name": "python",
   "nbconvert_exporter": "python",
   "pygments_lexer": "ipython3",
   "version": "3.10.8"
  },
  "orig_nbformat": 4,
  "vscode": {
   "interpreter": {
    "hash": "876db7d3f8682b7e4c5477e5f1e2dc2bd1b19fe05d9aabd59218369070754b39"
   }
  }
 },
 "nbformat": 4,
 "nbformat_minor": 2
}
